{
 "cells": [
  {
   "cell_type": "markdown",
   "id": "12f4855f",
   "metadata": {},
   "source": [
    "# 허깅페이스 데이터셋 불러오기"
   ]
  },
  {
   "cell_type": "code",
   "execution_count": 46,
   "id": "e8324725",
   "metadata": {},
   "outputs": [
    {
     "data": {
      "text/plain": [
       "DatasetDict({\n",
       "    train: Dataset({\n",
       "        features: ['instruction', 'output', 'url'],\n",
       "        num_rows: 21155\n",
       "    })\n",
       "})"
      ]
     },
     "execution_count": 46,
     "metadata": {},
     "output_type": "execute_result"
    }
   ],
   "source": [
    "# uv add datasets\n",
    "\n",
    "from datasets import load_dataset\n",
    "\n",
    "dataset = load_dataset(\"beomi/KoAlpaca-v1.1a\")\n",
    "dataset\n",
    "\n",
    "## 파싱 도전해보기(첫번째 데이터 추출하기)"
   ]
  },
  {
   "cell_type": "code",
   "execution_count": 47,
   "id": "bc3ff846",
   "metadata": {},
   "outputs": [
    {
     "data": {
      "text/plain": [
       "{'instruction': '양파는 어떤 식물 부위인가요? 그리고 고구마는 뿌리인가요?',\n",
       " 'output': '양파는 잎이 아닌 식물의 줄기 부분입니다. 고구마는 식물의 뿌리 부분입니다. \\n\\n식물의 부위의 구분에 대해 궁금해하는 분이라면 분명 이 질문에 대한 답을 찾고 있을 것입니다. 양파는 잎이 아닌 줄기 부분입니다. 고구마는 다른 질문과 답변에서 언급된 것과 같이 뿌리 부분입니다. 따라서, 양파는 식물의 줄기 부분이 되고, 고구마는 식물의 뿌리 부분입니다.\\n\\n 덧붙이는 답변: 고구마 줄기도 볶아먹을 수 있나요? \\n\\n고구마 줄기도 식용으로 볶아먹을 수 있습니다. 하지만 줄기 뿐만 아니라, 잎, 씨, 뿌리까지 모든 부위가 식용으로 활용되기도 합니다. 다만, 한국에서는 일반적으로 뿌리 부분인 고구마를 주로 먹습니다.',\n",
       " 'url': 'https://kin.naver.com/qna/detail.naver?d1id=11&dirId=1116&docId=55320268'}"
      ]
     },
     "execution_count": 47,
     "metadata": {},
     "output_type": "execute_result"
    }
   ],
   "source": [
    "# 데이터 1개 확인하기 \n",
    "dataset[\"train\"][0]"
   ]
  },
  {
   "cell_type": "code",
   "execution_count": 48,
   "id": "c496d86b",
   "metadata": {},
   "outputs": [
    {
     "data": {
      "text/plain": [
       "Dataset({\n",
       "    features: ['instruction', 'output', 'url'],\n",
       "    num_rows: 10\n",
       "})"
      ]
     },
     "execution_count": 48,
     "metadata": {},
     "output_type": "execute_result"
    }
   ],
   "source": [
    "# 데이터셋에서 랜덤으로 n개 뽑기\n",
    "sample_dataset = dataset[\"train\"].select(range(10))\n",
    "sample_dataset"
   ]
  },
  {
   "cell_type": "code",
   "execution_count": 49,
   "id": "6e783e72",
   "metadata": {},
   "outputs": [],
   "source": [
    "# dataset[\"train\"].map(함수 이름)\n",
    "# 함수의 output은 {key:value} 표현이며, 키가 features로 등록된다."
   ]
  },
  {
   "cell_type": "code",
   "execution_count": 50,
   "id": "3a4a51f4",
   "metadata": {},
   "outputs": [],
   "source": [
    "def make_prompt(data):\n",
    "    return {\"test\": \n",
    "        [\n",
    "            {\"role\": \"user\", \"content\": data[\"instruction\"]},\n",
    "            {\"role\": \"assistant\", \"content\": data[\"output\"]}\n",
    "        ]\n",
    "    }"
   ]
  },
  {
   "cell_type": "code",
   "execution_count": 51,
   "id": "bdb2b882",
   "metadata": {},
   "outputs": [
    {
     "data": {
      "text/plain": [
       "{'test': [{'role': 'user', 'content': '양파는 어떤 식물 부위인가요? 그리고 고구마는 뿌리인가요?'},\n",
       "  {'role': 'assistant',\n",
       "   'content': '양파는 잎이 아닌 식물의 줄기 부분입니다. 고구마는 식물의 뿌리 부분입니다. \\n\\n식물의 부위의 구분에 대해 궁금해하는 분이라면 분명 이 질문에 대한 답을 찾고 있을 것입니다. 양파는 잎이 아닌 줄기 부분입니다. 고구마는 다른 질문과 답변에서 언급된 것과 같이 뿌리 부분입니다. 따라서, 양파는 식물의 줄기 부분이 되고, 고구마는 식물의 뿌리 부분입니다.\\n\\n 덧붙이는 답변: 고구마 줄기도 볶아먹을 수 있나요? \\n\\n고구마 줄기도 식용으로 볶아먹을 수 있습니다. 하지만 줄기 뿐만 아니라, 잎, 씨, 뿌리까지 모든 부위가 식용으로 활용되기도 합니다. 다만, 한국에서는 일반적으로 뿌리 부분인 고구마를 주로 먹습니다.'}]}"
      ]
     },
     "execution_count": 51,
     "metadata": {},
     "output_type": "execute_result"
    }
   ],
   "source": [
    "make_prompt(dataset[\"train\"][0])"
   ]
  },
  {
   "cell_type": "code",
   "execution_count": 52,
   "id": "18778b66",
   "metadata": {},
   "outputs": [],
   "source": [
    "# 위의 데이터를 다음과 같은 format으로 바꿔보자\n",
    "# [\n",
    "#    {\"role\": \"user\", \"content\": dataset의 train의 instruction},\n",
    "#    {\"role\": \"assistant\", \"content\": dataset의 train의 output}\n",
    "# ]\n",
    "#------------------------------------------\n",
    "# [시스템] dataset의 train의 instruction\n",
    "# [사용자] dataset의 train의 output"
   ]
  },
  {
   "cell_type": "code",
   "execution_count": 53,
   "id": "afcf412c",
   "metadata": {},
   "outputs": [
    {
     "data": {
      "text/plain": [
       "['1-hahaha', '2-hahaha', '3-hahaha']"
      ]
     },
     "execution_count": 53,
     "metadata": {},
     "output_type": "execute_result"
    }
   ],
   "source": [
    "# map 개념 이해하기\n",
    "def test_func(x):\n",
    "    return f\"{x}-hahaha\"\n",
    "\n",
    "mylist = [1, 2, 3]\n",
    "list(map(test_func, mylist))  # 원소 하나하나에 함수가 적용되어 출력 된다.\n",
    "\n",
    "## 활용: make_prompt 함수를 train의 데이터 하나하나마다 적용을 하고싶다."
   ]
  },
  {
   "cell_type": "code",
   "execution_count": 54,
   "id": "fa6a931b",
   "metadata": {},
   "outputs": [
    {
     "data": {
      "application/vnd.jupyter.widget-view+json": {
       "model_id": "0b9848baa6984501b6c9910f15b9979f",
       "version_major": 2,
       "version_minor": 0
      },
      "text/plain": [
       "Map:   0%|          | 0/10 [00:00<?, ? examples/s]"
      ]
     },
     "metadata": {},
     "output_type": "display_data"
    }
   ],
   "source": [
    "sample_dataset = sample_dataset.map(make_prompt)"
   ]
  },
  {
   "cell_type": "code",
   "execution_count": 55,
   "id": "f8e547d7",
   "metadata": {},
   "outputs": [
    {
     "data": {
      "text/plain": [
       "{'instruction': '양파는 어떤 식물 부위인가요? 그리고 고구마는 뿌리인가요?',\n",
       " 'output': '양파는 잎이 아닌 식물의 줄기 부분입니다. 고구마는 식물의 뿌리 부분입니다. \\n\\n식물의 부위의 구분에 대해 궁금해하는 분이라면 분명 이 질문에 대한 답을 찾고 있을 것입니다. 양파는 잎이 아닌 줄기 부분입니다. 고구마는 다른 질문과 답변에서 언급된 것과 같이 뿌리 부분입니다. 따라서, 양파는 식물의 줄기 부분이 되고, 고구마는 식물의 뿌리 부분입니다.\\n\\n 덧붙이는 답변: 고구마 줄기도 볶아먹을 수 있나요? \\n\\n고구마 줄기도 식용으로 볶아먹을 수 있습니다. 하지만 줄기 뿐만 아니라, 잎, 씨, 뿌리까지 모든 부위가 식용으로 활용되기도 합니다. 다만, 한국에서는 일반적으로 뿌리 부분인 고구마를 주로 먹습니다.',\n",
       " 'url': 'https://kin.naver.com/qna/detail.naver?d1id=11&dirId=1116&docId=55320268',\n",
       " 'test': [{'content': '양파는 어떤 식물 부위인가요? 그리고 고구마는 뿌리인가요?', 'role': 'user'},\n",
       "  {'content': '양파는 잎이 아닌 식물의 줄기 부분입니다. 고구마는 식물의 뿌리 부분입니다. \\n\\n식물의 부위의 구분에 대해 궁금해하는 분이라면 분명 이 질문에 대한 답을 찾고 있을 것입니다. 양파는 잎이 아닌 줄기 부분입니다. 고구마는 다른 질문과 답변에서 언급된 것과 같이 뿌리 부분입니다. 따라서, 양파는 식물의 줄기 부분이 되고, 고구마는 식물의 뿌리 부분입니다.\\n\\n 덧붙이는 답변: 고구마 줄기도 볶아먹을 수 있나요? \\n\\n고구마 줄기도 식용으로 볶아먹을 수 있습니다. 하지만 줄기 뿐만 아니라, 잎, 씨, 뿌리까지 모든 부위가 식용으로 활용되기도 합니다. 다만, 한국에서는 일반적으로 뿌리 부분인 고구마를 주로 먹습니다.',\n",
       "   'role': 'assistant'}]}"
      ]
     },
     "execution_count": 55,
     "metadata": {},
     "output_type": "execute_result"
    }
   ],
   "source": [
    "sample_dataset[0]"
   ]
  },
  {
   "cell_type": "code",
   "execution_count": 56,
   "id": "1e29c07a",
   "metadata": {},
   "outputs": [],
   "source": [
    "# JSON파일을 만든다 - 내 데이터 만들어보기 (mydata.json)\n",
    "# 데이터 3개 만들어보기 ex. [{\"input\": \"\", \"output\": \"\"}]"
   ]
  },
  {
   "cell_type": "code",
   "execution_count": 57,
   "id": "b86cf709",
   "metadata": {},
   "outputs": [
    {
     "data": {
      "application/vnd.jupyter.widget-view+json": {
       "model_id": "3c932dd809a447d5bb1d0a7d2ef7df71",
       "version_major": 2,
       "version_minor": 0
      },
      "text/plain": [
       "Generating train split: 0 examples [00:00, ? examples/s]"
      ]
     },
     "metadata": {},
     "output_type": "display_data"
    },
    {
     "data": {
      "text/plain": [
       "DatasetDict({\n",
       "    train: Dataset({\n",
       "        features: ['input', 'output'],\n",
       "        num_rows: 3\n",
       "    })\n",
       "})"
      ]
     },
     "execution_count": 57,
     "metadata": {},
     "output_type": "execute_result"
    }
   ],
   "source": [
    "mytest = load_dataset(\"json\", data_files=\"05_test.json\")\n",
    "mytest"
   ]
  },
  {
   "cell_type": "code",
   "execution_count": null,
   "id": "906bd29e",
   "metadata": {},
   "outputs": [],
   "source": [
    "# jaehy12/news3\n",
    "# daekeun-ml/naver-news/summarization-ko"
   ]
  },
  {
   "cell_type": "code",
   "execution_count": null,
   "id": "78b0bde2",
   "metadata": {},
   "outputs": [],
   "source": [
    "# 체크리스트 \n",
    "# 1. 허깅페이스의 datasets 라이브러리를 활용하여 Huggingface의 dataset을 다운로드할 수 있다.\n",
    "# 2. 불러온 dataset을 가지고 새로운 Features를 만들 수 있다. \n",
    "# 3. 내가 가진 Json 형식의 데이터를 dataset과 같이 만들 수 있다. "
   ]
  },
  {
   "cell_type": "markdown",
   "id": "00955555",
   "metadata": {},
   "source": [
    "# 1. Dataset Map 함수 이해하기"
   ]
  },
  {
   "cell_type": "code",
   "execution_count": 41,
   "id": "f73be1f0",
   "metadata": {},
   "outputs": [
    {
     "data": {
      "text/plain": [
       "DatasetDict({\n",
       "    train: Dataset({\n",
       "        features: ['instruction', 'output', 'url'],\n",
       "        num_rows: 21155\n",
       "    })\n",
       "})"
      ]
     },
     "execution_count": 41,
     "metadata": {},
     "output_type": "execute_result"
    }
   ],
   "source": [
    "from datasets import load_dataset\n",
    "\n",
    "dataset = load_dataset(\"beomi/KoAlpaca-v1.1a\")\n",
    "dataset"
   ]
  },
  {
   "cell_type": "code",
   "execution_count": 43,
   "id": "b80d7d1f",
   "metadata": {},
   "outputs": [
    {
     "data": {
      "text/plain": [
       "{'instruction': '양파는 어떤 식물 부위인가요? 그리고 고구마는 뿌리인가요?',\n",
       " 'output': '양파는 잎이 아닌 식물의 줄기 부분입니다. 고구마는 식물의 뿌리 부분입니다. \\n\\n식물의 부위의 구분에 대해 궁금해하는 분이라면 분명 이 질문에 대한 답을 찾고 있을 것입니다. 양파는 잎이 아닌 줄기 부분입니다. 고구마는 다른 질문과 답변에서 언급된 것과 같이 뿌리 부분입니다. 따라서, 양파는 식물의 줄기 부분이 되고, 고구마는 식물의 뿌리 부분입니다.\\n\\n 덧붙이는 답변: 고구마 줄기도 볶아먹을 수 있나요? \\n\\n고구마 줄기도 식용으로 볶아먹을 수 있습니다. 하지만 줄기 뿐만 아니라, 잎, 씨, 뿌리까지 모든 부위가 식용으로 활용되기도 합니다. 다만, 한국에서는 일반적으로 뿌리 부분인 고구마를 주로 먹습니다.',\n",
       " 'url': 'https://kin.naver.com/qna/detail.naver?d1id=11&dirId=1116&docId=55320268'}"
      ]
     },
     "execution_count": 43,
     "metadata": {},
     "output_type": "execute_result"
    }
   ],
   "source": [
    "# 1. Train Dataset 변수 만들기\n",
    "# 데이터 1개 확인하기 \n",
    "\n",
    "train_dataset = dataset[\"train\"][0]\n",
    "train_dataset"
   ]
  },
  {
   "cell_type": "code",
   "execution_count": 44,
   "id": "db0e132e",
   "metadata": {},
   "outputs": [
    {
     "data": {
      "text/plain": [
       "Dataset({\n",
       "    features: ['instruction', 'output', 'url'],\n",
       "    num_rows: 10\n",
       "})"
      ]
     },
     "execution_count": 44,
     "metadata": {},
     "output_type": "execute_result"
    }
   ],
   "source": [
    "# 2. n=10 개의 DataSet 추출하기 - Sample Dataset\n",
    "# 데이터셋에서 랜덤으로 n개 뽑기\n",
    "\n",
    "n=10\n",
    "sample_dataset = dataset[\"train\"].select(range(n))\n",
    "sample_dataset"
   ]
  },
  {
   "cell_type": "code",
   "execution_count": 45,
   "id": "c8b41d10",
   "metadata": {},
   "outputs": [],
   "source": [
    "# 3. map에 적용할 함수 만들기\n",
    "\n",
    "def make_prompt(data):\n",
    "    return {\"test\": \n",
    "        [\n",
    "            {\"role\": \"user\", \"content\": data[\"instruction\"]},\n",
    "            {\"role\": \"assistant\", \"content\": data[\"output\"]}\n",
    "        ]\n",
    "    }"
   ]
  },
  {
   "cell_type": "code",
   "execution_count": 59,
   "id": "3a3a13cc",
   "metadata": {},
   "outputs": [
    {
     "data": {
      "application/vnd.jupyter.widget-view+json": {
       "model_id": "dc953075331e4b7a9513ca9b248da689",
       "version_major": 2,
       "version_minor": 0
      },
      "text/plain": [
       "Map:   0%|          | 0/10 [00:00<?, ? examples/s]"
      ]
     },
     "metadata": {},
     "output_type": "display_data"
    },
    {
     "name": "stdout",
     "output_type": "stream",
     "text": [
      "{'instruction': '양파는 어떤 식물 부위인가요? 그리고 고구마는 뿌리인가요?', 'output': '양파는 잎이 아닌 식물의 줄기 부분입니다. 고구마는 식물의 뿌리 부분입니다. \\n\\n식물의 부위의 구분에 대해 궁금해하는 분이라면 분명 이 질문에 대한 답을 찾고 있을 것입니다. 양파는 잎이 아닌 줄기 부분입니다. 고구마는 다른 질문과 답변에서 언급된 것과 같이 뿌리 부분입니다. 따라서, 양파는 식물의 줄기 부분이 되고, 고구마는 식물의 뿌리 부분입니다.\\n\\n 덧붙이는 답변: 고구마 줄기도 볶아먹을 수 있나요? \\n\\n고구마 줄기도 식용으로 볶아먹을 수 있습니다. 하지만 줄기 뿐만 아니라, 잎, 씨, 뿌리까지 모든 부위가 식용으로 활용되기도 합니다. 다만, 한국에서는 일반적으로 뿌리 부분인 고구마를 주로 먹습니다.', 'url': 'https://kin.naver.com/qna/detail.naver?d1id=11&dirId=1116&docId=55320268', 'test': [{'content': '양파는 어떤 식물 부위인가요? 그리고 고구마는 뿌리인가요?', 'role': 'user'}, {'content': '양파는 잎이 아닌 식물의 줄기 부분입니다. 고구마는 식물의 뿌리 부분입니다. \\n\\n식물의 부위의 구분에 대해 궁금해하는 분이라면 분명 이 질문에 대한 답을 찾고 있을 것입니다. 양파는 잎이 아닌 줄기 부분입니다. 고구마는 다른 질문과 답변에서 언급된 것과 같이 뿌리 부분입니다. 따라서, 양파는 식물의 줄기 부분이 되고, 고구마는 식물의 뿌리 부분입니다.\\n\\n 덧붙이는 답변: 고구마 줄기도 볶아먹을 수 있나요? \\n\\n고구마 줄기도 식용으로 볶아먹을 수 있습니다. 하지만 줄기 뿐만 아니라, 잎, 씨, 뿌리까지 모든 부위가 식용으로 활용되기도 합니다. 다만, 한국에서는 일반적으로 뿌리 부분인 고구마를 주로 먹습니다.', 'role': 'assistant'}]}\n"
     ]
    }
   ],
   "source": [
    "# 4. Sample Dataset에 map 적용하기\n",
    "\n",
    "sample_dataset = sample_dataset.map(make_prompt)\n",
    "print(sample_dataset[0])"
   ]
  }
 ],
 "metadata": {
  "kernelspec": {
   "display_name": "09_LLM-Project-Study",
   "language": "python",
   "name": "python3"
  },
  "language_info": {
   "codemirror_mode": {
    "name": "ipython",
    "version": 3
   },
   "file_extension": ".py",
   "mimetype": "text/x-python",
   "name": "python",
   "nbconvert_exporter": "python",
   "pygments_lexer": "ipython3",
   "version": "3.11.13"
  }
 },
 "nbformat": 4,
 "nbformat_minor": 5
}
