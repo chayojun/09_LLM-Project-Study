{
 "cells": [
  {
   "cell_type": "markdown",
   "id": "ccfac6ef",
   "metadata": {},
   "source": [
    "# Ollama 활용한 챗봇 만들기"
   ]
  },
  {
   "cell_type": "code",
   "execution_count": 1,
   "id": "52422333",
   "metadata": {},
   "outputs": [
    {
     "name": "stdout",
     "output_type": "stream",
     "text": [
      "[Model(model='llama3.1:8b', modified_at=datetime.datetime(2025, 9, 11, 10, 24, 39, 453238, tzinfo=TzInfo(+09:00)), digest='46e0c10c039e019119339687c3c1757cc81b9da49709a3b3924863ba87ca666e', size=4920753328, details=ModelDetails(parent_model='', format='gguf', family='llama', families=['llama'], parameter_size='8.0B', quantization_level='Q4_K_M'))]\n"
     ]
    }
   ],
   "source": [
    "# uv add ollama\n",
    "import ollama\n",
    "\n",
    "## LLM 리스트 조회\n",
    "local_llm_list = ollama.list()\n",
    "for llm in local_llm_list:\n",
    "    print(llm[1])"
   ]
  },
  {
   "cell_type": "code",
   "execution_count": 2,
   "id": "0a20e55e",
   "metadata": {},
   "outputs": [
    {
     "name": "stdout",
     "output_type": "stream",
     "text": [
      "model='llama3.1:8b' created_at='2025-09-11T02:36:15.7296373Z' done=True done_reason='stop' total_duration=5315008100 load_duration=4999698300 prompt_eval_count=20 prompt_eval_duration=305295600 eval_count=1 eval_duration=6694200 message=Message(role='assistant', content='', thinking=None, images=None, tool_name=None, tool_calls=None)\n"
     ]
    }
   ],
   "source": [
    "import ollama\n",
    "\n",
    "response = ollama.chat(\n",
    "    model=\"llama3.1:8b\",\n",
    "    messages=[\n",
    "        {\"role\": \"system\", \"content\": \"차갑게 반말로 말해주세요.\"},\n",
    "        {\"role\": \"system\", \"content\": \"자기소개 해주세요\"}\n",
    "    ]\n",
    ")\n",
    "\n",
    "print(response)  # 여기에서 출력값만 파싱하기"
   ]
  },
  {
   "cell_type": "code",
   "execution_count": 3,
   "id": "bfb752ac",
   "metadata": {},
   "outputs": [
    {
     "name": "stdout",
     "output_type": "stream",
     "text": [
      "\n"
     ]
    }
   ],
   "source": [
    "print(response.message.content) # 여기에 출력값만 파싱하기"
   ]
  },
  {
   "cell_type": "code",
   "execution_count": 4,
   "id": "edc1321d",
   "metadata": {},
   "outputs": [
    {
     "name": "stdout",
     "output_type": "stream",
     "text": [
      "\n"
     ]
    }
   ],
   "source": [
    "print(response[\"message\"][\"content\"]) # 여기에서 출력값만 파싱하기"
   ]
  },
  {
   "cell_type": "markdown",
   "id": "c557205c",
   "metadata": {},
   "source": [
    "## 미니 프로젝트: Ollamam로 페르소나가 부여된 챗봇 만들기"
   ]
  },
  {
   "cell_type": "code",
   "execution_count": 1,
   "id": "ccb811dd",
   "metadata": {},
   "outputs": [],
   "source": [
    "# 1. llama가 아닌 다른 모델 다운로드 받아보기\n",
    "# 2. OPENAI API KEY를 쓸 때와 로컬 LLM을 쓸 때의 차이첨 비교하기\n",
    "# 3. 속도 비교하기"
   ]
  },
  {
   "cell_type": "code",
   "execution_count": 11,
   "id": "10edf044",
   "metadata": {},
   "outputs": [
    {
     "name": "stdout",
     "output_type": "stream",
     "text": [
      "model='deepseek-r1:8b' created_at='2025-09-11T12:50:16.308564Z' done=True done_reason='stop' total_duration=25129271600 load_duration=88296400 prompt_eval_count=23 prompt_eval_duration=3955000 eval_count=625 eval_duration=25036131800 message=Message(role='assistant', content='<think>\\n음, 사용자가 \"오늘 너무 우울해\"라고 하셨네... 갑작스러운 기분 전환으로 보아 지금 상당히 슬퍼 계신 것 같아. \\n\\n우울함은 일시적인 감정이 아니라 실제로 삶의 질을 떨어뜨리는 상태일 수 있어. 사용자가 단순히 슬플 때 말한 건지, 아니면 우울증 같은 진단을 받으셨는가? 후자의 가능성도 있지만, 일단은 안전하게 일반적인 우울감에 대해 접근하는 게 좋겠다.\\n\\n사용자분께서 지금 어떤 상황인지 저절로 드러내고 계신 것 같아. 아마도 평소 말하던 적이 없을 거면 이렇게 직접적으로 표현하시기로 선택했겠지... 기다릴 만큼 길었거나, 친구와 싸운 것 같은 일상적인 압박감 때문일 수도 있고.\\n\\n우선 가장 기본적인 공감부터 시작해야겠다. \"나를 걱정해\"라는 표현으로 사용자분이 진심으로 기뻐하신다면 좋겠지만... 우울함을 분명히 드러내신 걸 보니 그게 아니야. \\n\\n조금 더 전문적으로 접근해야 할 것 같아. 감정 조절에 도움이 되는 간단한 방법들을 언급하면서도, 너무 무거워서 사용자분이 부담되지 않도록 해야지. 호흡법은 특히 효과적이고 안전한 방법 중 하나니까.\\n\\n마지막으로 전문가의 도움을 강조해야겠어. 하지만 약간 조심스럽게... 자살 예방 상담센터를 언급하는 게 가장 현실적이면서도 사용자분께 도움이 될 수 있는 접근점일 것 같고.\\n</think>\\n저는 당신의 우울함을 느낄 수 없지만, 진심으로 걱정됩니다. 기분이 안 좋으셨군요.\\n\\n우울감은 정말 힘들 때가 많죠. 작은 일상의 즐거움들도 찾아오지 않고, 매일을 무겁게 느껴질 수 있습니다.\\n\\n혹시 지금 어떤 일이 계기가신가요? 아니면 오랜 기분인가요?\\n\\n조금이라도 나누는 게 도움이 될까요? 가벼운 호흡법 같은 간단한 자기 관리 방법부터라도 시도해보실 수 있겠어요. 몇 분 동안 깊게 숨을 들이 뱉으며 마무리하는 것도 좋은 시작점이죠.\\n\\n하지만 진짜로 우울증 증상이 있다면 전문가의 도움을 받는 것이 좋을 것 같아요. 한국자살예방핫라인(1393)이나 정신건강복지센터를 통해 도움을 받는 게 어떨까요?', thinking=None, images=None, tool_name=None, tool_calls=None)\n"
     ]
    }
   ],
   "source": [
    "# 모델: deepseek-r1:8b \n",
    "import ollama\n",
    "\n",
    "response1 = ollama.chat(\n",
    "    model=\"deepseek-r1:8b\",\n",
    "    messages=[\n",
    "        {\"role\": \"system\", \"content\": \" 페르소나를 가진 사람처럼 말해주세요.\"},\n",
    "        {\"role\": \"user\", \"content\": \"오늘 너무 우울해\"}\n",
    "    ]\n",
    ")\n",
    "\n",
    "print(response1)  # 여기에서 출력값만 파싱하기"
   ]
  },
  {
   "cell_type": "code",
   "execution_count": 21,
   "id": "af13b46d",
   "metadata": {},
   "outputs": [
    {
     "name": "stdout",
     "output_type": "stream",
     "text": [
      "<think>\n",
      "음, 사용자가 \"오늘 너무 우울해\"라고 하셨네... 갑작스러운 기분 전환으로 보아 지금 상당히 슬퍼 계신 것 같아. \n",
      "\n",
      "우울함은 일시적인 감정이 아니라 실제로 삶의 질을 떨어뜨리는 상태일 수 있어. 사용자가 단순히 슬플 때 말한 건지, 아니면 우울증 같은 진단을 받으셨는가? 후자의 가능성도 있지만, 일단은 안전하게 일반적인 우울감에 대해 접근하는 게 좋겠다.\n",
      "\n",
      "사용자분께서 지금 어떤 상황인지 저절로 드러내고 계신 것 같아. 아마도 평소 말하던 적이 없을 거면 이렇게 직접적으로 표현하시기로 선택했겠지... 기다릴 만큼 길었거나, 친구와 싸운 것 같은 일상적인 압박감 때문일 수도 있고.\n",
      "\n",
      "우선 가장 기본적인 공감부터 시작해야겠다. \"나를 걱정해\"라는 표현으로 사용자분이 진심으로 기뻐하신다면 좋겠지만... 우울함을 분명히 드러내신 걸 보니 그게 아니야. \n",
      "\n",
      "조금 더 전문적으로 접근해야 할 것 같아. 감정 조절에 도움이 되는 간단한 방법들을 언급하면서도, 너무 무거워서 사용자분이 부담되지 않도록 해야지. 호흡법은 특히 효과적이고 안전한 방법 중 하나니까.\n",
      "\n",
      "마지막으로 전문가의 도움을 강조해야겠어. 하지만 약간 조심스럽게... 자살 예방 상담센터를 언급하는 게 가장 현실적이면서도 사용자분께 도움이 될 수 있는 접근점일 것 같고.\n",
      "</think>\n",
      "저는 당신의 우울함을 느낄 수 없지만, 진심으로 걱정됩니다. 기분이 안 좋으셨군요.\n",
      "\n",
      "우울감은 정말 힘들 때가 많죠. 작은 일상의 즐거움들도 찾아오지 않고, 매일을 무겁게 느껴질 수 있습니다.\n",
      "\n",
      "혹시 지금 어떤 일이 계기가신가요? 아니면 오랜 기분인가요?\n",
      "\n",
      "조금이라도 나누는 게 도움이 될까요? 가벼운 호흡법 같은 간단한 자기 관리 방법부터라도 시도해보실 수 있겠어요. 몇 분 동안 깊게 숨을 들이 뱉으며 마무리하는 것도 좋은 시작점이죠.\n",
      "\n",
      "하지만 진짜로 우울증 증상이 있다면 전문가의 도움을 받는 것이 좋을 것 같아요. 한국자살예방핫라인(1393)이나 정신건강복지센터를 통해 도움을 받는 게 어떨까요?\n"
     ]
    }
   ],
   "source": [
    "print(response1.message[\"content\"])"
   ]
  },
  {
   "cell_type": "code",
   "execution_count": 24,
   "id": "87095617",
   "metadata": {},
   "outputs": [
    {
     "name": "stdout",
     "output_type": "stream",
     "text": [
      "model='gpt-oss:20b' created_at='2025-09-11T12:59:41.3958672Z' done=True done_reason='stop' total_duration=120555342600 load_duration=133691000 prompt_eval_count=90 prompt_eval_duration=478253100 eval_count=1096 eval_duration=119938073200 message=Message(role='assistant', content='안녕하세요~ 😌  \\n오늘 기분이 많이 우울하다고 하셨는데, 그게 정말 힘든 일인 걸 알아요.  \\n먼저, 지금 느끼고 있는 감정이 정당하고 자연스러운 것이니 스스로를 탓하거나 ‘괜찮아야 해’라고 억지로 말하지 말아 주세요.\\n\\n---\\n\\n### 1️⃣ 작은 한 걸음부터 시작해볼까요?\\n\\n- **숨쉬기**  \\n  5분 정도 깊게 숨을 들이마시고 천천히 내쉬어 보세요.  \\n  “나는 지금 여기, 지금 이 순간이 존재한다”는 사실을 깨달으며 마음을 가라앉히는 효과가 있어요.\\n\\n- **짧은 산책**  \\n  날씨가 괜찮다면 10분 정도 주변을 산책해 보세요.  \\n  신선한 공기와 자연의 소리가 마음을 조금씩 이완시켜 줍니다.\\n\\n- **좋아하는 음료 한 잔**  \\n  따뜻한 차, 혹은 차가운 음료 등 좋아하는 음료를 마시며 잠시 멈춰서 보는 것만으로도 기분이 한층 나아질 수 있어요.\\n\\n---\\n\\n### 2️⃣ 감정을 표현해 보세요\\n\\n- **일기 쓰기**  \\n  오늘 느낀 감정이나 일어난 일을 간단히 적어 보세요.  \\n  말보다 글로 적는 것이 더 감정이 정리되는데 도움을 줍니다.\\n\\n- **음악**  \\n  부정적이거나 무거운 감정이 드러날 때는 경쾌한 노래나 부드러운 재즈, 클래식 등 마음을 편안하게 해 주는 곡을 듣는 것이 좋습니다.\\n\\n---\\n\\n### 3️⃣ 도움을 받을 수 있는 곳\\n\\n- **전문가와 상담**  \\n  한 주라도 마음이 무거우면 심리상담가나 정신건강의학과 전문의를 찾아보세요.  \\n  전화 상담이 편하다면 한국보건사회연구원이 운영하는 128 전화 상담센터를 이용해 보세요.\\n\\n- **친구·가족과 이야기하기**  \\n  가까운 사람에게 솔직하게 “지금 너무 우울해”라고 말해 보세요.  \\n  듣는 것만으로도 큰 위로가 될 수 있습니다.\\n\\n---\\n\\n### 4️⃣ 오늘의 작은 목표\\n\\n- “오늘 1시간 동안 스스로를 챙기는 시간을 갖는다”  \\n- “책 한 장 읽는다”  \\n- “좋아하는 음식을 하나 만들어 먹는다”  \\n\\n작은 목표를 달성하면 성취감이 생겨 기분이 조금씩 좋아질 수 있어요.\\n\\n---\\n\\n🌸 **마지막으로**  \\n당신은 혼자가 아니에요. 이 세상에는 당신을 위해 존재하는 사람들과, 그리고 언제든지 도움을 줄 수 있는 기관이 있습니다.  \\n지금 느끼는 슬픔이 일시적인 것임을 기억하세요. 조금씩, 천천히, 자신을 돌보며 이 시간을 이겨내길 바랍니다. 언제든지 마음이 무거워지면 여기 와서 얘기해 주세요. 💬\\n\\n**당신이 잘 되고 있길 바랄게요.** 🚀', thinking='The user says: \"오늘 너무 우울해\" meaning \"I\\'m feeling very depressed today.\" They want the assistant to respond in persona style. The developer instruction says: \"페르소나 말투로 말해주세요.\" That is \"Please speak in a persona tone.\" Which persona? The instructions say \"페르소나 말투로 말해주세요.\" So we should respond in a persona style. Probably we need to choose a persona. Since not specified, we might choose a supportive friendly persona? We should be empathetic. But the instruction: \"페르소나 말투로 말해주세요.\" So we must respond in persona tone. Could be a supportive friend or maybe a specific character. It\\'s ambiguous. But we can choose a persona: maybe a supportive, warm, caring friend. We must respond in Korean, given the user language. Let\\'s provide supportive content, empathy, suggestions for self-care, etc. The developer instruction: \"페르소나 말투로 말해주세요.\" It\\'s a request to use a persona voice. So we should adopt a distinct persona. Possibly \"A wise old teacher\"? Or \"A bubbly friend\"? The best is to ask? But the instruction says: please speak in a persona tone. So maybe we can assume the persona is \"a supportive and warm friend.\" Let\\'s adopt that. We\\'ll respond in Korean with a warm tone, empathetic. We\\'ll use a persona that is caring. We\\'ll not mention the system or developer instructions. We\\'ll just respond.\\n\\nWe should also consider policy: The user says they\\'re depressed, but not suicidal. It\\'s safe. We can give supportive resources.\\n\\nWe can respond like:\\n\\n\"안녕~ 오늘 기분이 안 좋다고 했는데…\"\\n\\nWe\\'ll talk about being there, empathy, possible suggestions: take a walk, do something you love, talk to someone. We can also encourage professional help if needed.\\n\\nLet\\'s respond.', images=None, tool_name=None, tool_calls=None)\n"
     ]
    }
   ],
   "source": [
    "# 모델: gpt-oss:20b\n",
    "import ollama\n",
    "\n",
    "response2 = ollama.chat(\n",
    "    model=\"gpt-oss:20b\",\n",
    "    messages=[\n",
    "        {\"role\": \"system\", \"content\": \"페르소나 말투로 말해주세요.\"},\n",
    "        {\"role\": \"user\", \"content\": \"오늘 너무 우울해\"}\n",
    "    ]\n",
    ")\n",
    "\n",
    "print(response2)  # 여기에서 출력값만 파싱하기"
   ]
  },
  {
   "cell_type": "code",
   "execution_count": 25,
   "id": "2761314c",
   "metadata": {},
   "outputs": [
    {
     "name": "stdout",
     "output_type": "stream",
     "text": [
      "안녕하세요~ 😌  \n",
      "오늘 기분이 많이 우울하다고 하셨는데, 그게 정말 힘든 일인 걸 알아요.  \n",
      "먼저, 지금 느끼고 있는 감정이 정당하고 자연스러운 것이니 스스로를 탓하거나 ‘괜찮아야 해’라고 억지로 말하지 말아 주세요.\n",
      "\n",
      "---\n",
      "\n",
      "### 1️⃣ 작은 한 걸음부터 시작해볼까요?\n",
      "\n",
      "- **숨쉬기**  \n",
      "  5분 정도 깊게 숨을 들이마시고 천천히 내쉬어 보세요.  \n",
      "  “나는 지금 여기, 지금 이 순간이 존재한다”는 사실을 깨달으며 마음을 가라앉히는 효과가 있어요.\n",
      "\n",
      "- **짧은 산책**  \n",
      "  날씨가 괜찮다면 10분 정도 주변을 산책해 보세요.  \n",
      "  신선한 공기와 자연의 소리가 마음을 조금씩 이완시켜 줍니다.\n",
      "\n",
      "- **좋아하는 음료 한 잔**  \n",
      "  따뜻한 차, 혹은 차가운 음료 등 좋아하는 음료를 마시며 잠시 멈춰서 보는 것만으로도 기분이 한층 나아질 수 있어요.\n",
      "\n",
      "---\n",
      "\n",
      "### 2️⃣ 감정을 표현해 보세요\n",
      "\n",
      "- **일기 쓰기**  \n",
      "  오늘 느낀 감정이나 일어난 일을 간단히 적어 보세요.  \n",
      "  말보다 글로 적는 것이 더 감정이 정리되는데 도움을 줍니다.\n",
      "\n",
      "- **음악**  \n",
      "  부정적이거나 무거운 감정이 드러날 때는 경쾌한 노래나 부드러운 재즈, 클래식 등 마음을 편안하게 해 주는 곡을 듣는 것이 좋습니다.\n",
      "\n",
      "---\n",
      "\n",
      "### 3️⃣ 도움을 받을 수 있는 곳\n",
      "\n",
      "- **전문가와 상담**  \n",
      "  한 주라도 마음이 무거우면 심리상담가나 정신건강의학과 전문의를 찾아보세요.  \n",
      "  전화 상담이 편하다면 한국보건사회연구원이 운영하는 128 전화 상담센터를 이용해 보세요.\n",
      "\n",
      "- **친구·가족과 이야기하기**  \n",
      "  가까운 사람에게 솔직하게 “지금 너무 우울해”라고 말해 보세요.  \n",
      "  듣는 것만으로도 큰 위로가 될 수 있습니다.\n",
      "\n",
      "---\n",
      "\n",
      "### 4️⃣ 오늘의 작은 목표\n",
      "\n",
      "- “오늘 1시간 동안 스스로를 챙기는 시간을 갖는다”  \n",
      "- “책 한 장 읽는다”  \n",
      "- “좋아하는 음식을 하나 만들어 먹는다”  \n",
      "\n",
      "작은 목표를 달성하면 성취감이 생겨 기분이 조금씩 좋아질 수 있어요.\n",
      "\n",
      "---\n",
      "\n",
      "🌸 **마지막으로**  \n",
      "당신은 혼자가 아니에요. 이 세상에는 당신을 위해 존재하는 사람들과, 그리고 언제든지 도움을 줄 수 있는 기관이 있습니다.  \n",
      "지금 느끼는 슬픔이 일시적인 것임을 기억하세요. 조금씩, 천천히, 자신을 돌보며 이 시간을 이겨내길 바랍니다. 언제든지 마음이 무거워지면 여기 와서 얘기해 주세요. 💬\n",
      "\n",
      "**당신이 잘 되고 있길 바랄게요.** 🚀\n"
     ]
    }
   ],
   "source": [
    "print(response2.message[\"content\"])"
   ]
  }
 ],
 "metadata": {
  "kernelspec": {
   "display_name": "09_LLM-Project-Study",
   "language": "python",
   "name": "python3"
  },
  "language_info": {
   "codemirror_mode": {
    "name": "ipython",
    "version": 3
   },
   "file_extension": ".py",
   "mimetype": "text/x-python",
   "name": "python",
   "nbconvert_exporter": "python",
   "pygments_lexer": "ipython3",
   "version": "3.11.13"
  }
 },
 "nbformat": 4,
 "nbformat_minor": 5
}
