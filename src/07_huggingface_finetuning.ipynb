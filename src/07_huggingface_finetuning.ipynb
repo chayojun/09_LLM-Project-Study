{
 "cells": [
  {
   "cell_type": "markdown",
   "id": "a46f870a",
   "metadata": {},
   "source": [
    "# LLM 모델 파인튜닝하기"
   ]
  },
  {
   "cell_type": "markdown",
   "id": "2972ab38",
   "metadata": {},
   "source": [
    "## 1. 모델 불러오기"
   ]
  },
  {
   "cell_type": "code",
   "execution_count": null,
   "id": "df4bc837",
   "metadata": {},
   "outputs": [],
   "source": [
    "# 양자화 할까 말까?????\n",
    "# parameter: quantization_config=BitsAndBytesConfig()"
   ]
  },
  {
   "cell_type": "markdown",
   "id": "74885d23",
   "metadata": {},
   "source": [
    "## 2. 토크나이저 불러오기"
   ]
  },
  {
   "cell_type": "code",
   "execution_count": null,
   "id": "067deba6",
   "metadata": {},
   "outputs": [],
   "source": [
    "# 텍스트가 있을 때 텐서로 잘 바꿔주는지 확인하기"
   ]
  },
  {
   "cell_type": "markdown",
   "id": "5e8f8412",
   "metadata": {},
   "source": [
    "## 3. 학습 준비"
   ]
  },
  {
   "cell_type": "markdown",
   "id": "4356998e",
   "metadata": {},
   "source": [
    "### 1) Huggingface에서 제공하는 데이터셋 불러오기"
   ]
  },
  {
   "cell_type": "code",
   "execution_count": null,
   "id": "3b576fd3",
   "metadata": {},
   "outputs": [],
   "source": [
    "# {\n",
    "#    \"input\": \"\",\n",
    "#    \"output\": \"\" \n",
    "# }"
   ]
  },
  {
   "cell_type": "markdown",
   "id": "f1435d80",
   "metadata": {},
   "source": [
    "## 2) 커스텀 데이터 만들기"
   ]
  },
  {
   "cell_type": "markdown",
   "id": "fd742e50",
   "metadata": {},
   "source": [
    "### 3) 학습 데이터로 만들기"
   ]
  },
  {
   "cell_type": "code",
   "execution_count": null,
   "id": "ad0f3273",
   "metadata": {},
   "outputs": [],
   "source": [
    "# messages = [\n",
    "#     [\n",
    "#         {\n",
    "#             \"role\": \"system\",\n",
    "#             \"content\": [{\"type\": \"text\", \"text\": \"You are a helpful assistant.\"},]\n",
    "#         },\n",
    "#         {\n",
    "#             \"role\": \"user\",\n",
    "#             \"content\": [{\"type\": \"text\", \"text\": \"Write a poem on Hugging Face, the company\"},]\n",
    "#         },\n",
    "#     ],\n",
    "# ]"
   ]
  },
  {
   "cell_type": "code",
   "execution_count": null,
   "id": "f36065b8",
   "metadata": {},
   "outputs": [],
   "source": [
    "# dataset[\"train\"].map(function)"
   ]
  },
  {
   "cell_type": "markdown",
   "id": "7b2ea364",
   "metadata": {},
   "source": [
    "# 4. 학습"
   ]
  },
  {
   "cell_type": "markdown",
   "id": "0e64bec7",
   "metadata": {},
   "source": [
    "## 1) 학습 설정"
   ]
  },
  {
   "cell_type": "code",
   "execution_count": 1,
   "id": "9e3abca8",
   "metadata": {},
   "outputs": [],
   "source": [
    "# SFTConfig()"
   ]
  },
  {
   "cell_type": "markdown",
   "id": "bccb258f",
   "metadata": {},
   "source": [
    "## 2) 학습"
   ]
  },
  {
   "cell_type": "code",
   "execution_count": 2,
   "id": "a62b16ff",
   "metadata": {},
   "outputs": [],
   "source": [
    "# SFTTrainer()"
   ]
  },
  {
   "cell_type": "markdown",
   "id": "48414813",
   "metadata": {},
   "source": [
    "## 3) 학습된 모델을 저장"
   ]
  }
 ],
 "metadata": {
  "kernelspec": {
   "display_name": "09_LLM-Project-Study",
   "language": "python",
   "name": "python3"
  },
  "language_info": {
   "codemirror_mode": {
    "name": "ipython",
    "version": 3
   },
   "file_extension": ".py",
   "mimetype": "text/x-python",
   "name": "python",
   "nbconvert_exporter": "python",
   "pygments_lexer": "ipython3",
   "version": "3.11.13"
  }
 },
 "nbformat": 4,
 "nbformat_minor": 5
}
